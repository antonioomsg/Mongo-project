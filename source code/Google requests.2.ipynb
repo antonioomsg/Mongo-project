{
 "cells": [
  {
   "cell_type": "code",
   "execution_count": 97,
   "metadata": {},
   "outputs": [],
   "source": [
    "import os\n",
    "from dotenv import load_dotenv\n",
    "load_dotenv()\n",
    "import requests\n",
    "import pandas as pd\n",
    "from in_put.senoicnuf import *\n",
    "from pymongo import MongoClient"
   ]
  },
  {
   "cell_type": "code",
   "execution_count": 90,
   "metadata": {},
   "outputs": [],
   "source": [
    "#def geocode(address):\n",
    "#    res = requests.get(f\"https://geocode.xyz/{address}\", params={\"json\":1})\n",
    "#    data = res.json()\n",
    "#    return {\n",
    "#        \"type\":\"Point\",\n",
    "#        \"coordinates\":[float(data[\"longt\"]),float(data[\"latt\"])]\n",
    "#    }"
   ]
  },
  {
   "cell_type": "code",
   "execution_count": 91,
   "metadata": {},
   "outputs": [
    {
     "data": {
      "text/plain": [
       "{'type': 'Point', 'coordinates': [-122.12329, 37.40972]}"
      ]
     },
     "execution_count": 91,
     "metadata": {},
     "output_type": "execute_result"
    }
   ],
   "source": [
    "#Hallamos punto de Mountain View.\n",
    "Mountain_view = geocode(\"Mountain View\")\n",
    "Mountain_view"
   ]
  },
  {
   "cell_type": "code",
   "execution_count": 92,
   "metadata": {},
   "outputs": [],
   "source": [
    "#def geoQueryNear(point,radius=80000):\n",
    "#    return {\n",
    "#        \"geopoint\":{\n",
    "#            \"$near\": {\n",
    "#                \"$geometry\": point,\n",
    "#                \"$maxDistance\": radius,\n",
    "#                \"$minDistance\": 0\n",
    "#            }\n",
    "#        }\n",
    "#    }"
   ]
  },
  {
   "cell_type": "code",
   "execution_count": 93,
   "metadata": {},
   "outputs": [],
   "source": [
    "client = MongoClient(\"mongodb://localhost/companies\")\n",
    "db = client.get_database()"
   ]
  },
  {
   "cell_type": "code",
   "execution_count": 94,
   "metadata": {},
   "outputs": [
    {
     "data": {
      "text/plain": [
       "638"
      ]
     },
     "execution_count": 94,
     "metadata": {},
     "output_type": "execute_result"
    }
   ],
   "source": [
    "#Obtenemos las localizaciones más cercanas de mis oficinas a Mountain View.\n",
    "q = db.clean_ca_USA.find(geoQueryNear(Mountain_view, radius=80000),{\"_id\":0,\"company_id\":0})\n",
    "near_offices_Mountain_View = list(q)\n",
    "len(near_offices_Mountain_View)"
   ]
  },
  {
   "cell_type": "code",
   "execution_count": 95,
   "metadata": {},
   "outputs": [
    {
     "data": {
      "text/plain": [
       "list"
      ]
     },
     "execution_count": 95,
     "metadata": {},
     "output_type": "execute_result"
    }
   ],
   "source": [
    "type(near_offices_Mountain_View)"
   ]
  },
  {
   "cell_type": "code",
   "execution_count": 96,
   "metadata": {},
   "outputs": [],
   "source": [
    "#Nos exportamos las oficinas más cercanas a Mountain_View.\n",
    "df = pd.DataFrame(near_offices_Mountain_View)\n",
    "df.to_json(\"../input/near_offices_Mountain_View.json\",orient=\"records\")"
   ]
  }
 ],
 "metadata": {
  "kernelspec": {
   "display_name": "Python 3",
   "language": "python",
   "name": "python3"
  },
  "language_info": {
   "codemirror_mode": {
    "name": "ipython",
    "version": 3
   },
   "file_extension": ".py",
   "mimetype": "text/x-python",
   "name": "python",
   "nbconvert_exporter": "python",
   "pygments_lexer": "ipython3",
   "version": "3.8.2"
  }
 },
 "nbformat": 4,
 "nbformat_minor": 4
}
